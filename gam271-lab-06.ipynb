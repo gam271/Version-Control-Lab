{
 "cells": [
  {
   "cell_type": "code",
   "execution_count": null,
   "id": "775e7a44-021b-4ff5-81ab-d34352400af1",
   "metadata": {},
   "outputs": [],
   "source": [
    "userName = input(\"What is your name?\")\n",
    "userAge = input(\"What is your age?\")\n",
    "\n",
    "if userAge < 13:\n",
    "    print(\"You are \" + userAge + \". You are a child.\")\n",
    "else if userAge >= 13 and userAge < 18:\n",
    "    print(\"You are \" + userAge + \". You are a teenager.\")\n",
    "else: \n",
    "    print(\"You are \" + userAge + \". You are an adult.\")"
   ]
  }
 ],
 "metadata": {
  "kernelspec": {
   "display_name": "Python 3 (ipykernel)",
   "language": "python",
   "name": "python3"
  },
  "language_info": {
   "codemirror_mode": {
    "name": "ipython",
    "version": 3
   },
   "file_extension": ".py",
   "mimetype": "text/x-python",
   "name": "python",
   "nbconvert_exporter": "python",
   "pygments_lexer": "ipython3",
   "version": "3.11.13"
  }
 },
 "nbformat": 4,
 "nbformat_minor": 5
}
