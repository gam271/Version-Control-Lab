{
 "cells": [
  {
   "cell_type": "code",
   "execution_count": null,
   "id": "775e7a44-021b-4ff5-81ab-d34352400af1",
   "metadata": {},
   "outputs": [],
   "source": [
    "# takes user input for name and age\n",
    "userName = input(\"What is your name?\")\n",
    "userAge = input(\"What is your age?\")\n",
    "\n",
    "userAge = int(userAge)\n",
    "\n",
    "# if statement that decides if you are a child, teenage, adult, or senior.\n",
    "if userAge < 13:\n",
    "    userAge = str(userAge)\n",
    "    print(\"You are \" + userAge + \". You are a child.\")\n",
    "elif userAge >= 13 and userAge < 18:\n",
    "    userAge = str(userAge)\n",
    "    print(\"You are \" + userAge + \". You are a teenager.\")\n",
    "elif userAge >= 18 and userAge < 60: \n",
    "    userAge = str(userAge)\n",
    "    print(\"You are \" + userAge + \". You are an adult.\")\n",
    "else: \n",
    "    userAge = str(userAge)\n",
    "    print(\"You are \" + userAge + \". You are a senior.\")"
   ]
  }
 ],
 "metadata": {
  "kernelspec": {
   "display_name": "Python 3 (ipykernel)",
   "language": "python",
   "name": "python3"
  },
  "language_info": {
   "codemirror_mode": {
    "name": "ipython",
    "version": 3
   },
   "file_extension": ".py",
   "mimetype": "text/x-python",
   "name": "python",
   "nbconvert_exporter": "python",
   "pygments_lexer": "ipython3",
   "version": "3.11.13"
  }
 },
 "nbformat": 4,
 "nbformat_minor": 5
}
